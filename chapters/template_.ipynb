## This can be the template for all the chapters (not developed, just created)
# Hi m8 this is the template, and what u're looking above is the chapter title, and bellow the code for X and Y

import X as Y
from A import B

# We can continue here with something

# Idk
